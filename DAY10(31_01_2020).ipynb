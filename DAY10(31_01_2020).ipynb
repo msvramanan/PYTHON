{
  "nbformat": 4,
  "nbformat_minor": 0,
  "metadata": {
    "colab": {
      "name": "DAY10(31-01-2020).ipynb",
      "provenance": [],
      "authorship_tag": "ABX9TyNz/3Ng5qEg+hDd8zb/nFM9",
      "include_colab_link": true
    },
    "kernelspec": {
      "name": "python3",
      "display_name": "Python 3"
    }
  },
  "cells": [
    {
      "cell_type": "markdown",
      "metadata": {
        "id": "view-in-github",
        "colab_type": "text"
      },
      "source": [
        "<a href=\"https://colab.research.google.com/github/msvramanan/PYTHON/blob/master/DAY10(31_01_2020).ipynb\" target=\"_parent\"><img src=\"https://colab.research.google.com/assets/colab-badge.svg\" alt=\"Open In Colab\"/></a>"
      ]
    },
    {
      "cell_type": "markdown",
      "metadata": {
        "id": "4nOfH57qxqa7",
        "colab_type": "text"
      },
      "source": [
        "# LOOPS\n",
        "- WHILE LOOP\n",
        "- FOR LOOP"
      ]
    },
    {
      "cell_type": "code",
      "metadata": {
        "id": "T1YR2RY0x10_",
        "colab_type": "code",
        "colab": {
          "base_uri": "https://localhost:8080/",
          "height": 51
        },
        "outputId": "c0078888-cadd-469f-9cf9-5d836316b3f1"
      },
      "source": [
        "# PRINT number from to 1 to n\n",
        "# input 10\n",
        "# output 1 2 3 4 ....10\n",
        "n = int(input(\"enter a number :\"))\n",
        "i = 1\n",
        "while i <= n :\n",
        "  print(i,end = \" \")\n",
        "  i = i+1"
      ],
      "execution_count": 4,
      "outputs": [
        {
          "output_type": "stream",
          "text": [
            "enter a number :10\n",
            "1 2 3 4 5 6 7 8 9 10 "
          ],
          "name": "stdout"
        }
      ]
    },
    {
      "cell_type": "code",
      "metadata": {
        "id": "0_TbtmqrzcXQ",
        "colab_type": "code",
        "colab": {
          "base_uri": "https://localhost:8080/",
          "height": 51
        },
        "outputId": "1bb41c81-a699-4cfe-fb42-47776c84f85e"
      },
      "source": [
        "# PRINT sum of even numbers\n",
        "# input: 10\n",
        "# output: (2+4+6+8+10) = 30\n",
        "n = int(input(\"enter a number :\"))\n",
        "i = 2\n",
        "sum = 0\n",
        "while i <=10:\n",
        "  sum = sum + i\n",
        "  i = i + 2\n",
        "print(sum)\n",
        "  "
      ],
      "execution_count": 15,
      "outputs": [
        {
          "output_type": "stream",
          "text": [
            "enter a number :10\n",
            "30\n"
          ],
          "name": "stdout"
        }
      ]
    },
    {
      "cell_type": "code",
      "metadata": {
        "id": "KQS0rIpY0-Ya",
        "colab_type": "code",
        "colab": {
          "base_uri": "https://localhost:8080/",
          "height": 51
        },
        "outputId": "c50f5e22-1e3f-448f-f5a1-e177efd842e3"
      },
      "source": [
        "# print number is palindrome\n",
        "n=int(input(\"enter a number :\"))\n",
        "i=n\n",
        "rem=0\n",
        "num=0\n",
        "while n>0:\n",
        "  rem=num%10\n",
        "  num=num*10+rem\n",
        "  n=n//10\n",
        "print(num)"
      ],
      "execution_count": 42,
      "outputs": [
        {
          "output_type": "stream",
          "text": [
            "enter a number :123\n",
            "0\n"
          ],
          "name": "stdout"
        }
      ]
    },
    {
      "cell_type": "markdown",
      "metadata": {
        "id": "N6Bn106U9IeI",
        "colab_type": "text"
      },
      "source": [
        "# Functional Programming"
      ]
    },
    {
      "cell_type": "markdown",
      "metadata": {
        "id": "d5rMFjCw97NE",
        "colab_type": "text"
      },
      "source": [
        "- simple\n",
        "- easy to understand\n",
        "- better reuseability\n",
        "- lengthy program will be divided into sub programs"
      ]
    },
    {
      "cell_type": "code",
      "metadata": {
        "id": "tZ-s6q7K-NY8",
        "colab_type": "code",
        "colab": {}
      },
      "source": [
        "def nameofthefunction(<parameter>):\n",
        "  statements\n",
        "  return"
      ],
      "execution_count": 0,
      "outputs": []
    },
    {
      "cell_type": "code",
      "metadata": {
        "id": "Gc9CZs4E-Xvi",
        "colab_type": "code",
        "colab": {
          "base_uri": "https://localhost:8080/",
          "height": 34
        },
        "outputId": "bdea1c11-45d8-4962-81e3-9a292abdc3d9"
      },
      "source": [
        "# print sum of even number\n",
        "# input:1234\n",
        "# output:(2+4)=6\n",
        "def sumofevendigits(n):\n",
        "  s = 0\n",
        "  while n != 0:\n",
        "    r = n%10\n",
        "    if r%2==0:\n",
        "      s=s+r\n",
        "    n =n //10\n",
        "  return s\n",
        "sumofevendigits(1234)\n",
        "\n"
      ],
      "execution_count": 55,
      "outputs": [
        {
          "output_type": "execute_result",
          "data": {
            "text/plain": [
              "6"
            ]
          },
          "metadata": {
            "tags": []
          },
          "execution_count": 55
        }
      ]
    },
    {
      "cell_type": "code",
      "metadata": {
        "id": "14Qd9JBnEy4_",
        "colab_type": "code",
        "colab": {
          "base_uri": "https://localhost:8080/",
          "height": 34
        },
        "outputId": "d8d35b85-3dc1-4563-8bfd-de575e2189b5"
      },
      "source": [
        "# to find the largest digit in a number\n",
        "def large(n):\n",
        "  prev=0\n",
        "  next=0\n",
        "  while(n!=0):\n",
        "    prev=next\n",
        "    next=n%10\n",
        "    if(prev>next):\n",
        "      next=prev\n",
        "    n=n//10\n",
        "  return next\n",
        "large(12345)"
      ],
      "execution_count": 56,
      "outputs": [
        {
          "output_type": "execute_result",
          "data": {
            "text/plain": [
              "5"
            ]
          },
          "metadata": {
            "tags": []
          },
          "execution_count": 56
        }
      ]
    },
    {
      "cell_type": "markdown",
      "metadata": {
        "id": "d8R3sZdbIfgh",
        "colab_type": "text"
      },
      "source": [
        "# for loop"
      ]
    },
    {
      "cell_type": "code",
      "metadata": {
        "id": "FdY3z8ujI3Hb",
        "colab_type": "code",
        "colab": {}
      },
      "source": [
        "# syntax:\n",
        "for in range(start,stop,step):\n",
        " statements"
      ],
      "execution_count": 0,
      "outputs": []
    },
    {
      "cell_type": "code",
      "metadata": {
        "id": "pQWaalefJV2z",
        "colab_type": "code",
        "colab": {
          "base_uri": "https://localhost:8080/",
          "height": 34
        },
        "outputId": "14a4c2e1-ff52-41c8-e5dc-0062345bb762"
      },
      "source": [
        "# USINT FUNCTION PRINT THE NUMBERS BETWEEN LIMITS\n",
        "# input:11 25\n",
        "# output:11 12 13 14 ...25\n",
        "def printseries(fn,ln):\n",
        "  for i in range(fn,ln+1):\n",
        "    print(i,end=\" \")\n",
        "  return\n",
        "printseries(11,25)"
      ],
      "execution_count": 61,
      "outputs": [
        {
          "output_type": "stream",
          "text": [
            "11 12 13 14 15 16 17 18 19 20 21 22 23 24 25 "
          ],
          "name": "stdout"
        }
      ]
    },
    {
      "cell_type": "code",
      "metadata": {
        "id": "9p7prq-MKQ2y",
        "colab_type": "code",
        "colab": {
          "base_uri": "https://localhost:8080/",
          "height": 34
        },
        "outputId": "4c0e8226-d1da-4c03-c49c-3eaa588623c7"
      },
      "source": [
        "# input:500,520\n",
        "# output:500,504,508...520\n",
        "def printseries(fn,ln):\n",
        "  for i in range(fn,ln+1,4):\n",
        "    print(i,end=\" \")\n",
        "  return\n",
        "printseries(500,520)"
      ],
      "execution_count": 72,
      "outputs": [
        {
          "output_type": "stream",
          "text": [
            "500 504 508 512 516 520 "
          ],
          "name": "stdout"
        }
      ]
    },
    {
      "cell_type": "markdown",
      "metadata": {
        "id": "onevfZg7Mt_O",
        "colab_type": "text"
      },
      "source": [
        "# collection types\n",
        "- List\n",
        "- Tuple\n",
        "- Dictionary"
      ]
    },
    {
      "cell_type": "markdown",
      "metadata": {
        "id": "VjnDifXGM_FM",
        "colab_type": "text"
      },
      "source": [
        "# List:\n",
        "- one of the data structure in python\n",
        "- Data structure means to store, sort and search options\n",
        "- its one common data structure in python, the items of list separated by comma and enclosed by square brackets\n",
        "- In List, we can change values\n",
        "- ex:\n",
        "- list1=[1,2,3,4,5]\n",
        "- list=[\"JNTUA\",\"DASD\",\"asds\"]"
      ]
    },
    {
      "cell_type": "code",
      "metadata": {
        "id": "5SGNJLCnO4YD",
        "colab_type": "code",
        "colab": {
          "base_uri": "https://localhost:8080/",
          "height": 34
        },
        "outputId": "fce272c1-b860-4bd2-ccd4-34adda209b31"
      },
      "source": [
        "li = [1,8,2,5,4]\n",
        "print(li)"
      ],
      "execution_count": 73,
      "outputs": [
        {
          "output_type": "stream",
          "text": [
            "[1, 8, 2, 5, 4]\n"
          ],
          "name": "stdout"
        }
      ]
    },
    {
      "cell_type": "code",
      "metadata": {
        "id": "bPV6OYR1PCSa",
        "colab_type": "code",
        "colab": {
          "base_uri": "https://localhost:8080/",
          "height": 170
        },
        "outputId": "12b8121b-86a5-40f7-fcaf-73362f53468b"
      },
      "source": [
        "li = [1,8,2,5,4]\n",
        "print(li)\n",
        "print(li[2])\n",
        "print(li[-3])\n",
        "print(li[2:])\n",
        "print(li[2:4])\n",
        "print(li[-3:-1])\n",
        "print(li[::2])\n",
        "print(li[::1])\n",
        "print(li[::3])"
      ],
      "execution_count": 80,
      "outputs": [
        {
          "output_type": "stream",
          "text": [
            "[1, 8, 2, 5, 4]\n",
            "2\n",
            "2\n",
            "[2, 5, 4]\n",
            "[2, 5]\n",
            "[2, 5]\n",
            "[1, 2, 4]\n",
            "[1, 8, 2, 5, 4]\n",
            "[1, 5]\n"
          ],
          "name": "stdout"
        }
      ]
    },
    {
      "cell_type": "code",
      "metadata": {
        "id": "GoAn9KeIQHfv",
        "colab_type": "code",
        "colab": {
          "base_uri": "https://localhost:8080/",
          "height": 68
        },
        "outputId": "c8fdb3f3-5a0f-4d92-e7c2-bd7c1d010539"
      },
      "source": [
        "# UPDATE LIST\n",
        "li = [\"JNTUA\",8,\"ANTPR\",5,4]\n",
        "print(li)\n",
        "li[1]=\"154\"\n",
        "print(li)\n",
        "# delete list item\n",
        "del li[3]\n",
        "print(li)"
      ],
      "execution_count": 83,
      "outputs": [
        {
          "output_type": "stream",
          "text": [
            "['JNTUA', 8, 'ANTPR', 5, 4]\n",
            "['JNTUA', '154', 'ANTPR', 5, 4]\n",
            "['JNTUA', '154', 'ANTPR', 4]\n"
          ],
          "name": "stdout"
        }
      ]
    },
    {
      "cell_type": "code",
      "metadata": {
        "id": "Gf2xl56VbtIr",
        "colab_type": "code",
        "colab": {
          "base_uri": "https://localhost:8080/",
          "height": 85
        },
        "outputId": "31d1aa1f-fca7-4508-b5aa-5b2d2c43104a"
      },
      "source": [
        "# Basic List Operations\n",
        "li = [1,2,3,4,5]\n",
        "print(len(li))\n",
        "print(li*2)\n",
        "print(4 in li)\n",
        "print(6 in li)"
      ],
      "execution_count": 87,
      "outputs": [
        {
          "output_type": "stream",
          "text": [
            "5\n",
            "[1, 2, 3, 4, 5, 1, 2, 3, 4, 5]\n",
            "True\n",
            "False\n"
          ],
          "name": "stdout"
        }
      ]
    },
    {
      "cell_type": "markdown",
      "metadata": {
        "id": "rcs9nUhrecvn",
        "colab_type": "text"
      },
      "source": [
        "# List Functions\n",
        "- max\n",
        "- min\n",
        "- sum\n",
        "- append\n",
        "- insert\n",
        "- count\n",
        "- index\n",
        "- sort\n",
        "- pop"
      ]
    },
    {
      "cell_type": "code",
      "metadata": {
        "id": "wo3pFi6sed_l",
        "colab_type": "code",
        "colab": {
          "base_uri": "https://localhost:8080/",
          "height": 231
        },
        "outputId": "c65c9a25-9784-49ed-868a-671fc343b950"
      },
      "source": [
        "li = [1,2,3,4,5]\n",
        "print(max(li))\n",
        "print(min(li))\n",
        "print(sum(1)/(len(1)))\n"
      ],
      "execution_count": 95,
      "outputs": [
        {
          "output_type": "stream",
          "text": [
            "5\n",
            "1\n"
          ],
          "name": "stdout"
        },
        {
          "output_type": "error",
          "ename": "TypeError",
          "evalue": "ignored",
          "traceback": [
            "\u001b[0;31m---------------------------------------------------------------------------\u001b[0m",
            "\u001b[0;31mTypeError\u001b[0m                                 Traceback (most recent call last)",
            "\u001b[0;32m<ipython-input-95-f2dde7766c0b>\u001b[0m in \u001b[0;36m<module>\u001b[0;34m()\u001b[0m\n\u001b[1;32m      2\u001b[0m \u001b[0mprint\u001b[0m\u001b[0;34m(\u001b[0m\u001b[0mmax\u001b[0m\u001b[0;34m(\u001b[0m\u001b[0mli\u001b[0m\u001b[0;34m)\u001b[0m\u001b[0;34m)\u001b[0m\u001b[0;34m\u001b[0m\u001b[0;34m\u001b[0m\u001b[0m\n\u001b[1;32m      3\u001b[0m \u001b[0mprint\u001b[0m\u001b[0;34m(\u001b[0m\u001b[0mmin\u001b[0m\u001b[0;34m(\u001b[0m\u001b[0mli\u001b[0m\u001b[0;34m)\u001b[0m\u001b[0;34m)\u001b[0m\u001b[0;34m\u001b[0m\u001b[0;34m\u001b[0m\u001b[0m\n\u001b[0;32m----> 4\u001b[0;31m \u001b[0mprint\u001b[0m\u001b[0;34m(\u001b[0m\u001b[0msum\u001b[0m\u001b[0;34m(\u001b[0m\u001b[0;36m1\u001b[0m\u001b[0;34m)\u001b[0m\u001b[0;34m/\u001b[0m\u001b[0;34m(\u001b[0m\u001b[0mlen\u001b[0m\u001b[0;34m(\u001b[0m\u001b[0;36m1\u001b[0m\u001b[0;34m)\u001b[0m\u001b[0;34m)\u001b[0m\u001b[0;34m)\u001b[0m\u001b[0;34m\u001b[0m\u001b[0;34m\u001b[0m\u001b[0m\n\u001b[0m",
            "\u001b[0;31mTypeError\u001b[0m: 'int' object is not callable"
          ]
        }
      ]
    },
    {
      "cell_type": "code",
      "metadata": {
        "id": "gq7K7OigekVo",
        "colab_type": "code",
        "colab": {
          "base_uri": "https://localhost:8080/",
          "height": 34
        },
        "outputId": "79965261-ae54-4c9c-94e2-1e74b30c9841"
      },
      "source": [
        "li=[1,2,3,4,5,5,5,5,]\n",
        "li.count(5)"
      ],
      "execution_count": 96,
      "outputs": [
        {
          "output_type": "execute_result",
          "data": {
            "text/plain": [
              "4"
            ]
          },
          "metadata": {
            "tags": []
          },
          "execution_count": 96
        }
      ]
    },
    {
      "cell_type": "code",
      "metadata": {
        "id": "3MrK7ISHh6If",
        "colab_type": "code",
        "colab": {
          "base_uri": "https://localhost:8080/",
          "height": 34
        },
        "outputId": "798e06a4-0e11-42ca-a6aa-95cbfa50ac37"
      },
      "source": [
        "li=[1,2,3,4,6,7,8,5]\n",
        "li.index(5)"
      ],
      "execution_count": 97,
      "outputs": [
        {
          "output_type": "execute_result",
          "data": {
            "text/plain": [
              "7"
            ]
          },
          "metadata": {
            "tags": []
          },
          "execution_count": 97
        }
      ]
    },
    {
      "cell_type": "code",
      "metadata": {
        "id": "24U9bStjiCkF",
        "colab_type": "code",
        "colab": {
          "base_uri": "https://localhost:8080/",
          "height": 34
        },
        "outputId": "7f483592-9d34-47ab-a3ba-3fe1b904f168"
      },
      "source": [
        "li=[35,45,65,55,95]\n",
        "#li.sort()\n",
        "li.pop(2)\n",
        "print(li)"
      ],
      "execution_count": 99,
      "outputs": [
        {
          "output_type": "stream",
          "text": [
            "[35, 45, 55, 95]\n"
          ],
          "name": "stdout"
        }
      ]
    },
    {
      "cell_type": "code",
      "metadata": {
        "id": "YqzSOVzGiMil",
        "colab_type": "code",
        "colab": {}
      },
      "source": [
        ""
      ],
      "execution_count": 0,
      "outputs": []
    }
  ]
}