{
  "nbformat": 4,
  "nbformat_minor": 0,
  "metadata": {
    "colab": {
      "name": "DAY11(01-02-2020).ipynb",
      "provenance": [],
      "authorship_tag": "ABX9TyPkVGtftcutI9oIhNTtLgyi",
      "include_colab_link": true
    },
    "kernelspec": {
      "name": "python3",
      "display_name": "Python 3"
    }
  },
  "cells": [
    {
      "cell_type": "markdown",
      "metadata": {
        "id": "view-in-github",
        "colab_type": "text"
      },
      "source": [
        "<a href=\"https://colab.research.google.com/github/msvramanan/PYTHON/blob/master/DAY11(01_02_2020).ipynb\" target=\"_parent\"><img src=\"https://colab.research.google.com/assets/colab-badge.svg\" alt=\"Open In Colab\"/></a>"
      ]
    },
    {
      "cell_type": "markdown",
      "metadata": {
        "id": "hjOhcvVK7KNw",
        "colab_type": "text"
      },
      "source": [
        "# TUPLE\n",
        "- parenthsis() --> Tuple and square brackets[] --> List\n",
        "- difference between list and tuple\n",
        "     - list is mutable - can be changed/modified\n",
        "     - list is used to access modify, add, delete\n",
        "     - tuple is immutable -- cannot be changed\n",
        "     - used to access data"
      ]
    },
    {
      "cell_type": "code",
      "metadata": {
        "id": "x1vGwvWAAAY3",
        "colab_type": "code",
        "colab": {
          "base_uri": "https://localhost:8080/",
          "height": 51
        },
        "outputId": "324dc4bc-4f41-443e-a572-43c79b587e22"
      },
      "source": [
        "t1=(1,2,3,4,5,6)\n",
        "t2=(44,45,48)\n",
        "print(t1,type(t1))\n",
        "print(t2)"
      ],
      "execution_count": 4,
      "outputs": [
        {
          "output_type": "stream",
          "text": [
            "(1, 2, 3, 4, 5, 6) <class 'tuple'>\n",
            "(44, 45, 48)\n"
          ],
          "name": "stdout"
        }
      ]
    },
    {
      "cell_type": "markdown",
      "metadata": {
        "id": "VvHFVktXA0uU",
        "colab_type": "text"
      },
      "source": [
        "# DICTIONARIES:\n",
        "- it works on concept of set unique data\n",
        "- keys, values is the unique indentifier fokr a value\n",
        "- each key is seperated from its values with colon(:)\n",
        "- each key and value are seperated by comma(,)\n",
        "- Dictionaries enclosed with curly braces{} "
      ]
    },
    {
      "cell_type": "code",
      "metadata": {
        "id": "W0lloa1VCMOU",
        "colab_type": "code",
        "colab": {
          "base_uri": "https://localhost:8080/",
          "height": 51
        },
        "outputId": "382fd68d-03fd-4de7-a687-9d12edffbea6"
      },
      "source": [
        "d1={\"name\":\"ramanan\",\"emailid\":\"msvramanan222000@gmail.com\",\"address\":\"nellore\"}\n",
        "print(d1)\n",
        "d1.keys()"
      ],
      "execution_count": 11,
      "outputs": [
        {
          "output_type": "stream",
          "text": [
            "{'name': 'ramanan', 'emailid': 'msvramanan222000@gmail.com', 'address': 'nellore'}\n"
          ],
          "name": "stdout"
        },
        {
          "output_type": "execute_result",
          "data": {
            "text/plain": [
              "dict_keys(['name', 'emailid', 'address'])"
            ]
          },
          "metadata": {
            "tags": []
          },
          "execution_count": 11
        }
      ]
    },
    {
      "cell_type": "code",
      "metadata": {
        "id": "wMhEZhCJDLxj",
        "colab_type": "code",
        "colab": {
          "base_uri": "https://localhost:8080/",
          "height": 34
        },
        "outputId": "73975dcd-9f46-4da2-a3ce-fc4d64fc19ea"
      },
      "source": [
        "d1.values()"
      ],
      "execution_count": 12,
      "outputs": [
        {
          "output_type": "execute_result",
          "data": {
            "text/plain": [
              "dict_values(['ramanan', 'msvramanan222000@gmail.com', 'nellore'])"
            ]
          },
          "metadata": {
            "tags": []
          },
          "execution_count": 12
        }
      ]
    },
    {
      "cell_type": "code",
      "metadata": {
        "id": "ExtkthskE0dV",
        "colab_type": "code",
        "colab": {
          "base_uri": "https://localhost:8080/",
          "height": 34
        },
        "outputId": "136dc394-2de0-4043-b1a0-a0a2aa63aed6"
      },
      "source": [
        "d1[\"name\"]"
      ],
      "execution_count": 10,
      "outputs": [
        {
          "output_type": "execute_result",
          "data": {
            "text/plain": [
              "'ramanan'"
            ]
          },
          "metadata": {
            "tags": []
          },
          "execution_count": 10
        }
      ]
    },
    {
      "cell_type": "code",
      "metadata": {
        "id": "IXhkyq3EFGQT",
        "colab_type": "code",
        "colab": {
          "base_uri": "https://localhost:8080/",
          "height": 34
        },
        "outputId": "9019e04d-b900-4a60-f64c-00c1355efc3d"
      },
      "source": [
        "d1={\"name\":\"ramanan\",\"emailid\":\"msvramanan222000@gmail.com\",\"address\":\"nellore\"}\n",
        "d1[\"address\"]=\"Anatapur\"\n",
        "print(d1)"
      ],
      "execution_count": 14,
      "outputs": [
        {
          "output_type": "stream",
          "text": [
            "{'name': 'ramanan', 'emailid': 'msvramanan222000@gmail.com', 'address': 'Anatapur'}\n"
          ],
          "name": "stdout"
        }
      ]
    },
    {
      "cell_type": "code",
      "metadata": {
        "id": "an4UmD2iF7oh",
        "colab_type": "code",
        "colab": {
          "base_uri": "https://localhost:8080/",
          "height": 34
        },
        "outputId": "777d1b1d-c36e-4bbb-e94e-a52014979c3d"
      },
      "source": [
        "d1['course']='chemical engineering'\n",
        "print(d1)"
      ],
      "execution_count": 16,
      "outputs": [
        {
          "output_type": "stream",
          "text": [
            "{'name': 'ramanan', 'emailid': 'msvramanan222000@gmail.com', 'address': 'Anatapur', 'courses': 'chemical engineering', 'course': 'chemical engineering'}\n"
          ],
          "name": "stdout"
        }
      ]
    },
    {
      "cell_type": "code",
      "metadata": {
        "id": "zEhxZVA3GdsQ",
        "colab_type": "code",
        "colab": {
          "base_uri": "https://localhost:8080/",
          "height": 34
        },
        "outputId": "7349151c-f355-47de-c9e8-4e4a7dab1ab4"
      },
      "source": [
        "del d1['course']\n",
        "print(d1)"
      ],
      "execution_count": 22,
      "outputs": [
        {
          "output_type": "stream",
          "text": [
            "{'name': 'ramanan', 'address': 'Anatapur', 'courses': 'chemical engineering'}\n"
          ],
          "name": "stdout"
        }
      ]
    },
    {
      "cell_type": "markdown",
      "metadata": {
        "id": "e8kvmnqnHR-e",
        "colab_type": "text"
      },
      "source": [
        "# STRINGS:"
      ]
    },
    {
      "cell_type": "code",
      "metadata": {
        "id": "qS0-vmR5HeI-",
        "colab_type": "code",
        "colab": {
          "base_uri": "https://localhost:8080/",
          "height": 34
        },
        "outputId": "172854fb-f499-4297-bc80-e26d4b221ad8"
      },
      "source": [
        "s1=\"python\"\n",
        "print(s1)"
      ],
      "execution_count": 23,
      "outputs": [
        {
          "output_type": "stream",
          "text": [
            "python\n"
          ],
          "name": "stdout"
        }
      ]
    },
    {
      "cell_type": "code",
      "metadata": {
        "id": "OB83I8teHjTh",
        "colab_type": "code",
        "colab": {
          "base_uri": "https://localhost:8080/",
          "height": 34
        },
        "outputId": "81d6eada-5fbd-4519-9cff-8f54531fa9e4"
      },
      "source": [
        "print(s1,type(s1))"
      ],
      "execution_count": 25,
      "outputs": [
        {
          "output_type": "stream",
          "text": [
            "python <class 'str'>\n"
          ],
          "name": "stdout"
        }
      ]
    },
    {
      "cell_type": "code",
      "metadata": {
        "id": "CqChFXjoHnNw",
        "colab_type": "code",
        "colab": {
          "base_uri": "https://localhost:8080/",
          "height": 102
        },
        "outputId": "6bb77714-9e38-41c4-e9b1-33c122c5b9ab"
      },
      "source": [
        "s1=\"python\"\n",
        "print(s1[-1])\n",
        "print(s1[2:])\n",
        "print(s1[1:5])\n",
        "print(s1[::-1])\n",
        "print(s1[-1::-1])"
      ],
      "execution_count": 44,
      "outputs": [
        {
          "output_type": "stream",
          "text": [
            "n\n",
            "thon\n",
            "ytho\n",
            "nohtyp\n",
            "nohtyp\n"
          ],
          "name": "stdout"
        }
      ]
    },
    {
      "cell_type": "code",
      "metadata": {
        "id": "6laBCuJsI3SS",
        "colab_type": "code",
        "colab": {
          "base_uri": "https://localhost:8080/",
          "height": 51
        },
        "outputId": "fcb9319a-1bd8-4e77-b64e-b213e468430c"
      },
      "source": [
        "s1=\"python\"\n",
        "print(len(s1))\n",
        "print(s1[(len(s1)//2)])"
      ],
      "execution_count": 55,
      "outputs": [
        {
          "output_type": "stream",
          "text": [
            "6\n",
            "h\n"
          ],
          "name": "stdout"
        }
      ]
    },
    {
      "cell_type": "code",
      "metadata": {
        "id": "YHZ2Pq-6KzYk",
        "colab_type": "code",
        "colab": {
          "base_uri": "https://localhost:8080/",
          "height": 34
        },
        "outputId": "2e440577-5e6d-4d4e-a213-b03db07b506e"
      },
      "source": [
        "print(s1[-1:-4:-1])"
      ],
      "execution_count": 64,
      "outputs": [
        {
          "output_type": "stream",
          "text": [
            "noh\n"
          ],
          "name": "stdout"
        }
      ]
    },
    {
      "cell_type": "code",
      "metadata": {
        "id": "tTpRjNvSNgVa",
        "colab_type": "code",
        "colab": {
          "base_uri": "https://localhost:8080/",
          "height": 34
        },
        "outputId": "cdc549be-4302-4bae-f496-3bc065e66a3b"
      },
      "source": [
        "# reversing of string using function\n",
        "def reversestring(str):\n",
        "  print(str[::-1])\n",
        "reversestring(\"python\")"
      ],
      "execution_count": 71,
      "outputs": [
        {
          "output_type": "stream",
          "text": [
            "nohtyp\n"
          ],
          "name": "stdout"
        }
      ]
    },
    {
      "cell_type": "code",
      "metadata": {
        "id": "sb4mv7MTPFbX",
        "colab_type": "code",
        "colab": {
          "base_uri": "https://localhost:8080/",
          "height": 34
        },
        "outputId": "adf4c708-2e2c-454d-9aef-3a321cd83557"
      },
      "source": [
        "# check given string is palindrome or not\n",
        "def string(str):\n",
        "  if str==str[::-1]:\n",
        "    print(str ,\"IS A PALINDROME\")\n",
        "  else:\n",
        "    print(str ,\"IS NOT A PALINDROME\")\n",
        "string(\"RADAR\")"
      ],
      "execution_count": 87,
      "outputs": [
        {
          "output_type": "stream",
          "text": [
            "RADAR IS A PALINDROME\n"
          ],
          "name": "stdout"
        }
      ]
    },
    {
      "cell_type": "code",
      "metadata": {
        "id": "SmrJqLXiSGjZ",
        "colab_type": "code",
        "colab": {}
      },
      "source": [
        ""
      ],
      "execution_count": 0,
      "outputs": []
    }
  ]
}